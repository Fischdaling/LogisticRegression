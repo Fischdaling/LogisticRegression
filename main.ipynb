{
 "cells": [
  {
   "metadata": {
    "ExecuteTime": {
     "end_time": "2025-02-23T02:06:40.079384Z",
     "start_time": "2025-02-23T02:06:40.075704Z"
    }
   },
   "cell_type": "code",
   "source": [
    "import numpy as np\n",
    "import pandas as pd\n",
    "from sklearn.linear_model import LogisticRegression\n",
    "from sklearn.model_selection import train_test_split\n",
    "from sklearn.metrics import accuracy_score, confusion_matrix, classification_report\n",
    "import matplotlib.pyplot as plt"
   ],
   "id": "8702daa757d2497c",
   "outputs": [],
   "execution_count": 96
  },
  {
   "cell_type": "code",
   "id": "initial_id",
   "metadata": {
    "collapsed": true,
    "ExecuteTime": {
     "end_time": "2025-02-23T02:06:41.184986Z",
     "start_time": "2025-02-23T02:06:41.178172Z"
    }
   },
   "source": [
    "# Load the dataset\n",
    "dataSet = pd.read_csv('data/iris.csv')\n",
    "\n",
    "# Display the first few rows of the data\n",
    "print(\"First few rows of the dataset:\")\n",
    "print(dataSet.head(10))     # loading in the first 10 data entries"
   ],
   "outputs": [
    {
     "name": "stdout",
     "output_type": "stream",
     "text": [
      "First few rows of the dataset:\n",
      "   sepal.length  sepal.width  petal.length  petal.width variety\n",
      "0           5.1          3.5           1.4          0.2  Setosa\n",
      "1           4.9          3.0           1.4          0.2  Setosa\n",
      "2           4.7          3.2           1.3          0.2  Setosa\n",
      "3           4.6          3.1           1.5          0.2  Setosa\n",
      "4           5.0          3.6           1.4          0.2  Setosa\n",
      "5           5.4          3.9           1.7          0.4  Setosa\n",
      "6           4.6          3.4           1.4          0.3  Setosa\n",
      "7           5.0          3.4           1.5          0.2  Setosa\n",
      "8           4.4          2.9           1.4          0.2  Setosa\n",
      "9           4.9          3.1           1.5          0.1  Setosa\n"
     ]
    }
   ],
   "execution_count": 97
  },
  {
   "metadata": {
    "ExecuteTime": {
     "end_time": "2025-02-23T02:06:42.467121Z",
     "start_time": "2025-02-23T02:06:42.460824Z"
    }
   },
   "cell_type": "code",
   "source": [
    "# Features (X) and target variable (y)\n",
    "X = dataSet.drop('variety', axis=1)     # X axis is everything but variety\n",
    "y = dataSet['variety']                  # y axis is variety only\n",
    "\n",
    "# Split the dataset into training and testing sets\n",
    "X_train, X_test, y_train, y_test = train_test_split(X, y, test_size=0.2, random_state=42, shuffle=True) # 20% test 80 train split, 42 for seeding the randomness so each run has the same random number list, shuffeling the data so we know the order doesn't influence our model\n",
    "\n",
    "print(\"Shape of training data:\", X_train.shape) #120 rows with 4 columns\n",
    "print(\"Shape of testing data:\", X_test.shape)   #30 rows with 4 columns"
   ],
   "id": "fb2bbfaae6740e17",
   "outputs": [
    {
     "name": "stdout",
     "output_type": "stream",
     "text": [
      "Shape of training data: (120, 4)\n",
      "Shape of testing data: (30, 4)\n"
     ]
    }
   ],
   "execution_count": 98
  },
  {
   "metadata": {
    "ExecuteTime": {
     "end_time": "2025-02-23T02:06:43.782861Z",
     "start_time": "2025-02-23T02:06:43.772674Z"
    }
   },
   "cell_type": "code",
   "source": [
    "# Initialize the logistic regression model\n",
    "model = LogisticRegression()  # sklearn using sigmoid's function to map real values to values 0-1\n",
    "\n",
    "# Train the model\n",
    "model.fit(X_train, y_train) #our new created model gets adjusted to our values automatically calc stuff like bias & wights\n",
    "\n",
    "print(\"Model training completed!\")"
   ],
   "id": "4fbbacea0fc8ca99",
   "outputs": [
    {
     "name": "stdout",
     "output_type": "stream",
     "text": [
      "Model training completed!\n"
     ]
    }
   ],
   "execution_count": 99
  },
  {
   "metadata": {
    "ExecuteTime": {
     "end_time": "2025-02-23T02:06:44.962088Z",
     "start_time": "2025-02-23T02:06:44.945587Z"
    }
   },
   "cell_type": "code",
   "source": [
    "# Make predictions on the test set\n",
    "y_pred = model.predict(X_test)      # Test our dataset with making predictions\n",
    "\n",
    "# Calculate accuracy\n",
    "accuracy = accuracy_score(y_test, y_pred)       # calculate the accuracy    correct predictions / all predictions\n",
    "print(\"Accuracy:\", accuracy)    # Proportion of correct predictions \n",
    "\n",
    "# Print classification report\n",
    "print(\"\\nClassification Report:\")\n",
    "print(classification_report(y_test, y_pred))   # recall: ratio if correctly predicted positives to actually positives, f1: averafe between precision and recall, Support is the actual number of occurrences \n",
    "\n",
    "# Create a confusion matrix\n",
    "cm = confusion_matrix(y_test, y_pred)\n",
    "print(\"\\nConfusion Matrix:\")    # 1: Setosa, 2: Versicolor, 3: Virginica\n",
    "print(cm)"
   ],
   "id": "bd8d897061657ec1",
   "outputs": [
    {
     "name": "stdout",
     "output_type": "stream",
     "text": [
      "Accuracy: 1.0\n",
      "\n",
      "Classification Report:\n",
      "              precision    recall  f1-score   support\n",
      "\n",
      "      Setosa       1.00      1.00      1.00        10\n",
      "  Versicolor       1.00      1.00      1.00         9\n",
      "   Virginica       1.00      1.00      1.00        11\n",
      "\n",
      "    accuracy                           1.00        30\n",
      "   macro avg       1.00      1.00      1.00        30\n",
      "weighted avg       1.00      1.00      1.00        30\n",
      "\n",
      "\n",
      "Confusion Matrix:\n",
      "[[10  0  0]\n",
      " [ 0  9  0]\n",
      " [ 0  0 11]]\n"
     ]
    }
   ],
   "execution_count": 100
  },
  {
   "metadata": {
    "ExecuteTime": {
     "end_time": "2025-02-23T02:12:02.269687Z",
     "start_time": "2025-02-23T02:12:02.154317Z"
    }
   },
   "cell_type": "code",
   "source": [
    "# Create a meshgrid to plot the decision boundary\n",
    "x_min, x_max = X['sepal.length'].min(), X['sepal.length'].max()\n",
    "y_min, y_max = X['sepal.width'].min(), X['sepal.width'].max()\n",
    "\n",
    "xx, yy = np.meshgrid(np.linspace(x_min - 0.5, x_max + 0.5, 100),\n",
    "                     np.linspace(y_min - 0.5, y_max + 0.5, 100))\n",
    "\n",
    "# Predict class for each point on the meshgrid\n",
    "Z = model.predict(np.c_[xx.ravel(), yy.ravel()])\n",
    "Z = Z.reshape(xx.shape)\n",
    "\n",
    "# Plot the decision boundary\n",
    "plt.figure(figsize=(10, 6))\n",
    "contour = plt.contourf(xx, yy, Z, alpha=0.3)\n",
    "plt.scatter(X['sepal.length'], X['sepal.width'], c=y, edgecolor='k', s=20)\n",
    "plt.xlabel('Sepal Length')\n",
    "plt.ylabel('Sepal Width')\n",
    "plt.title(f'Logistic Regression Decision Boundary (Accuracy: {accuracy:.2f})')\n",
    "plt.colorbar(contour, label='Predicted Species')\n",
    "plt.show()"
   ],
   "id": "7a17860b7633d9a8",
   "outputs": [
    {
     "name": "stderr",
     "output_type": "stream",
     "text": [
      "C:\\Users\\gabri\\miniconda3\\Lib\\site-packages\\sklearn\\base.py:493: UserWarning: X does not have valid feature names, but LogisticRegression was fitted with feature names\n",
      "  warnings.warn(\n"
     ]
    },
    {
     "ename": "TypeError",
     "evalue": "ufunc 'isfinite' not supported for the input types, and the inputs could not be safely coerced to any supported types according to the casting rule ''safe''",
     "output_type": "error",
     "traceback": [
      "\u001B[1;31m---------------------------------------------------------------------------\u001B[0m",
      "\u001B[1;31mTypeError\u001B[0m                                 Traceback (most recent call last)",
      "Cell \u001B[1;32mIn[104], line 14\u001B[0m\n\u001B[0;32m     12\u001B[0m \u001B[38;5;66;03m# Plot the decision boundary\u001B[39;00m\n\u001B[0;32m     13\u001B[0m plt\u001B[38;5;241m.\u001B[39mfigure(figsize\u001B[38;5;241m=\u001B[39m(\u001B[38;5;241m10\u001B[39m, \u001B[38;5;241m6\u001B[39m))\n\u001B[1;32m---> 14\u001B[0m contour \u001B[38;5;241m=\u001B[39m plt\u001B[38;5;241m.\u001B[39mcontourf(xx, yy, Z, alpha\u001B[38;5;241m=\u001B[39m\u001B[38;5;241m0.3\u001B[39m)\n\u001B[0;32m     15\u001B[0m plt\u001B[38;5;241m.\u001B[39mscatter(X[\u001B[38;5;124m'\u001B[39m\u001B[38;5;124msepal.length\u001B[39m\u001B[38;5;124m'\u001B[39m], X[\u001B[38;5;124m'\u001B[39m\u001B[38;5;124msepal.width\u001B[39m\u001B[38;5;124m'\u001B[39m], c\u001B[38;5;241m=\u001B[39my, edgecolor\u001B[38;5;241m=\u001B[39m\u001B[38;5;124m'\u001B[39m\u001B[38;5;124mk\u001B[39m\u001B[38;5;124m'\u001B[39m, s\u001B[38;5;241m=\u001B[39m\u001B[38;5;241m20\u001B[39m)\n\u001B[0;32m     16\u001B[0m plt\u001B[38;5;241m.\u001B[39mxlabel(\u001B[38;5;124m'\u001B[39m\u001B[38;5;124mSepal Length\u001B[39m\u001B[38;5;124m'\u001B[39m)\n",
      "File \u001B[1;32m~\\miniconda3\\Lib\\site-packages\\matplotlib\\pyplot.py:3181\u001B[0m, in \u001B[0;36mcontourf\u001B[1;34m(data, *args, **kwargs)\u001B[0m\n\u001B[0;32m   3179\u001B[0m \u001B[38;5;129m@_copy_docstring_and_deprecators\u001B[39m(Axes\u001B[38;5;241m.\u001B[39mcontourf)\n\u001B[0;32m   3180\u001B[0m \u001B[38;5;28;01mdef\u001B[39;00m \u001B[38;5;21mcontourf\u001B[39m(\u001B[38;5;241m*\u001B[39margs, data\u001B[38;5;241m=\u001B[39m\u001B[38;5;28;01mNone\u001B[39;00m, \u001B[38;5;241m*\u001B[39m\u001B[38;5;241m*\u001B[39mkwargs) \u001B[38;5;241m-\u001B[39m\u001B[38;5;241m>\u001B[39m QuadContourSet:\n\u001B[1;32m-> 3181\u001B[0m     __ret \u001B[38;5;241m=\u001B[39m gca()\u001B[38;5;241m.\u001B[39mcontourf(\n\u001B[0;32m   3182\u001B[0m         \u001B[38;5;241m*\u001B[39margs, \u001B[38;5;241m*\u001B[39m\u001B[38;5;241m*\u001B[39m({\u001B[38;5;124m\"\u001B[39m\u001B[38;5;124mdata\u001B[39m\u001B[38;5;124m\"\u001B[39m: data} \u001B[38;5;28;01mif\u001B[39;00m data \u001B[38;5;129;01mis\u001B[39;00m \u001B[38;5;129;01mnot\u001B[39;00m \u001B[38;5;28;01mNone\u001B[39;00m \u001B[38;5;28;01melse\u001B[39;00m {}), \u001B[38;5;241m*\u001B[39m\u001B[38;5;241m*\u001B[39mkwargs\n\u001B[0;32m   3183\u001B[0m     )\n\u001B[0;32m   3184\u001B[0m     \u001B[38;5;28;01mif\u001B[39;00m __ret\u001B[38;5;241m.\u001B[39m_A \u001B[38;5;129;01mis\u001B[39;00m \u001B[38;5;129;01mnot\u001B[39;00m \u001B[38;5;28;01mNone\u001B[39;00m:  \u001B[38;5;66;03m# type: ignore[attr-defined]\u001B[39;00m\n\u001B[0;32m   3185\u001B[0m         sci(__ret)\n",
      "File \u001B[1;32m~\\miniconda3\\Lib\\site-packages\\matplotlib\\__init__.py:1521\u001B[0m, in \u001B[0;36m_preprocess_data.<locals>.inner\u001B[1;34m(ax, data, *args, **kwargs)\u001B[0m\n\u001B[0;32m   1518\u001B[0m \u001B[38;5;129m@functools\u001B[39m\u001B[38;5;241m.\u001B[39mwraps(func)\n\u001B[0;32m   1519\u001B[0m \u001B[38;5;28;01mdef\u001B[39;00m \u001B[38;5;21minner\u001B[39m(ax, \u001B[38;5;241m*\u001B[39margs, data\u001B[38;5;241m=\u001B[39m\u001B[38;5;28;01mNone\u001B[39;00m, \u001B[38;5;241m*\u001B[39m\u001B[38;5;241m*\u001B[39mkwargs):\n\u001B[0;32m   1520\u001B[0m     \u001B[38;5;28;01mif\u001B[39;00m data \u001B[38;5;129;01mis\u001B[39;00m \u001B[38;5;28;01mNone\u001B[39;00m:\n\u001B[1;32m-> 1521\u001B[0m         \u001B[38;5;28;01mreturn\u001B[39;00m func(\n\u001B[0;32m   1522\u001B[0m             ax,\n\u001B[0;32m   1523\u001B[0m             \u001B[38;5;241m*\u001B[39m\u001B[38;5;28mmap\u001B[39m(cbook\u001B[38;5;241m.\u001B[39msanitize_sequence, args),\n\u001B[0;32m   1524\u001B[0m             \u001B[38;5;241m*\u001B[39m\u001B[38;5;241m*\u001B[39m{k: cbook\u001B[38;5;241m.\u001B[39msanitize_sequence(v) \u001B[38;5;28;01mfor\u001B[39;00m k, v \u001B[38;5;129;01min\u001B[39;00m kwargs\u001B[38;5;241m.\u001B[39mitems()})\n\u001B[0;32m   1526\u001B[0m     bound \u001B[38;5;241m=\u001B[39m new_sig\u001B[38;5;241m.\u001B[39mbind(ax, \u001B[38;5;241m*\u001B[39margs, \u001B[38;5;241m*\u001B[39m\u001B[38;5;241m*\u001B[39mkwargs)\n\u001B[0;32m   1527\u001B[0m     auto_label \u001B[38;5;241m=\u001B[39m (bound\u001B[38;5;241m.\u001B[39marguments\u001B[38;5;241m.\u001B[39mget(label_namer)\n\u001B[0;32m   1528\u001B[0m                   \u001B[38;5;129;01mor\u001B[39;00m bound\u001B[38;5;241m.\u001B[39mkwargs\u001B[38;5;241m.\u001B[39mget(label_namer))\n",
      "File \u001B[1;32m~\\miniconda3\\Lib\\site-packages\\matplotlib\\axes\\_axes.py:6760\u001B[0m, in \u001B[0;36mAxes.contourf\u001B[1;34m(self, *args, **kwargs)\u001B[0m\n\u001B[0;32m   6749\u001B[0m \u001B[38;5;250m\u001B[39m\u001B[38;5;124;03m\"\"\"\u001B[39;00m\n\u001B[0;32m   6750\u001B[0m \u001B[38;5;124;03mPlot filled contours.\u001B[39;00m\n\u001B[0;32m   6751\u001B[0m \n\u001B[1;32m   (...)\u001B[0m\n\u001B[0;32m   6757\u001B[0m \u001B[38;5;124;03m%(contour_doc)s\u001B[39;00m\n\u001B[0;32m   6758\u001B[0m \u001B[38;5;124;03m\"\"\"\u001B[39;00m\n\u001B[0;32m   6759\u001B[0m kwargs[\u001B[38;5;124m'\u001B[39m\u001B[38;5;124mfilled\u001B[39m\u001B[38;5;124m'\u001B[39m] \u001B[38;5;241m=\u001B[39m \u001B[38;5;28;01mTrue\u001B[39;00m\n\u001B[1;32m-> 6760\u001B[0m contours \u001B[38;5;241m=\u001B[39m mcontour\u001B[38;5;241m.\u001B[39mQuadContourSet(\u001B[38;5;28mself\u001B[39m, \u001B[38;5;241m*\u001B[39margs, \u001B[38;5;241m*\u001B[39m\u001B[38;5;241m*\u001B[39mkwargs)\n\u001B[0;32m   6761\u001B[0m \u001B[38;5;28mself\u001B[39m\u001B[38;5;241m.\u001B[39m_request_autoscale_view()\n\u001B[0;32m   6762\u001B[0m \u001B[38;5;28;01mreturn\u001B[39;00m contours\n",
      "File \u001B[1;32m~\\miniconda3\\Lib\\site-packages\\matplotlib\\contour.py:708\u001B[0m, in \u001B[0;36mContourSet.__init__\u001B[1;34m(self, ax, levels, filled, linewidths, linestyles, hatches, alpha, origin, extent, cmap, colors, norm, vmin, vmax, colorizer, extend, antialiased, nchunk, locator, transform, negative_linestyles, clip_path, *args, **kwargs)\u001B[0m\n\u001B[0;32m    704\u001B[0m \u001B[38;5;28;01mif\u001B[39;00m \u001B[38;5;28mself\u001B[39m\u001B[38;5;241m.\u001B[39mnegative_linestyles \u001B[38;5;129;01mis\u001B[39;00m \u001B[38;5;28;01mNone\u001B[39;00m:\n\u001B[0;32m    705\u001B[0m     \u001B[38;5;28mself\u001B[39m\u001B[38;5;241m.\u001B[39mnegative_linestyles \u001B[38;5;241m=\u001B[39m \\\n\u001B[0;32m    706\u001B[0m         mpl\u001B[38;5;241m.\u001B[39mrcParams[\u001B[38;5;124m'\u001B[39m\u001B[38;5;124mcontour.negative_linestyle\u001B[39m\u001B[38;5;124m'\u001B[39m]\n\u001B[1;32m--> 708\u001B[0m kwargs \u001B[38;5;241m=\u001B[39m \u001B[38;5;28mself\u001B[39m\u001B[38;5;241m.\u001B[39m_process_args(\u001B[38;5;241m*\u001B[39margs, \u001B[38;5;241m*\u001B[39m\u001B[38;5;241m*\u001B[39mkwargs)\n\u001B[0;32m    709\u001B[0m \u001B[38;5;28mself\u001B[39m\u001B[38;5;241m.\u001B[39m_process_levels()\n\u001B[0;32m    711\u001B[0m \u001B[38;5;28mself\u001B[39m\u001B[38;5;241m.\u001B[39m_extend_min \u001B[38;5;241m=\u001B[39m \u001B[38;5;28mself\u001B[39m\u001B[38;5;241m.\u001B[39mextend \u001B[38;5;129;01min\u001B[39;00m [\u001B[38;5;124m'\u001B[39m\u001B[38;5;124mmin\u001B[39m\u001B[38;5;124m'\u001B[39m, \u001B[38;5;124m'\u001B[39m\u001B[38;5;124mboth\u001B[39m\u001B[38;5;124m'\u001B[39m]\n",
      "File \u001B[1;32m~\\miniconda3\\Lib\\site-packages\\matplotlib\\contour.py:1326\u001B[0m, in \u001B[0;36mQuadContourSet._process_args\u001B[1;34m(self, corner_mask, algorithm, *args, **kwargs)\u001B[0m\n\u001B[0;32m   1323\u001B[0m         corner_mask \u001B[38;5;241m=\u001B[39m mpl\u001B[38;5;241m.\u001B[39mrcParams[\u001B[38;5;124m'\u001B[39m\u001B[38;5;124mcontour.corner_mask\u001B[39m\u001B[38;5;124m'\u001B[39m]\n\u001B[0;32m   1324\u001B[0m \u001B[38;5;28mself\u001B[39m\u001B[38;5;241m.\u001B[39m_corner_mask \u001B[38;5;241m=\u001B[39m corner_mask\n\u001B[1;32m-> 1326\u001B[0m x, y, z \u001B[38;5;241m=\u001B[39m \u001B[38;5;28mself\u001B[39m\u001B[38;5;241m.\u001B[39m_contour_args(args, kwargs)\n\u001B[0;32m   1328\u001B[0m contour_generator \u001B[38;5;241m=\u001B[39m contourpy\u001B[38;5;241m.\u001B[39mcontour_generator(\n\u001B[0;32m   1329\u001B[0m     x, y, z, name\u001B[38;5;241m=\u001B[39m\u001B[38;5;28mself\u001B[39m\u001B[38;5;241m.\u001B[39m_algorithm, corner_mask\u001B[38;5;241m=\u001B[39m\u001B[38;5;28mself\u001B[39m\u001B[38;5;241m.\u001B[39m_corner_mask,\n\u001B[0;32m   1330\u001B[0m     line_type\u001B[38;5;241m=\u001B[39mcontourpy\u001B[38;5;241m.\u001B[39mLineType\u001B[38;5;241m.\u001B[39mSeparateCode,\n\u001B[0;32m   1331\u001B[0m     fill_type\u001B[38;5;241m=\u001B[39mcontourpy\u001B[38;5;241m.\u001B[39mFillType\u001B[38;5;241m.\u001B[39mOuterCode,\n\u001B[0;32m   1332\u001B[0m     chunk_size\u001B[38;5;241m=\u001B[39m\u001B[38;5;28mself\u001B[39m\u001B[38;5;241m.\u001B[39mnchunk)\n\u001B[0;32m   1334\u001B[0m t \u001B[38;5;241m=\u001B[39m \u001B[38;5;28mself\u001B[39m\u001B[38;5;241m.\u001B[39mget_transform()\n",
      "File \u001B[1;32m~\\miniconda3\\Lib\\site-packages\\matplotlib\\contour.py:1370\u001B[0m, in \u001B[0;36mQuadContourSet._contour_args\u001B[1;34m(self, args, kwargs)\u001B[0m\n\u001B[0;32m   1368\u001B[0m \u001B[38;5;28;01melse\u001B[39;00m:\n\u001B[0;32m   1369\u001B[0m     \u001B[38;5;28;01mraise\u001B[39;00m _api\u001B[38;5;241m.\u001B[39mnargs_error(fn, takes\u001B[38;5;241m=\u001B[39m\u001B[38;5;124m\"\u001B[39m\u001B[38;5;124mfrom 1 to 4\u001B[39m\u001B[38;5;124m\"\u001B[39m, given\u001B[38;5;241m=\u001B[39mnargs)\n\u001B[1;32m-> 1370\u001B[0m z \u001B[38;5;241m=\u001B[39m ma\u001B[38;5;241m.\u001B[39mmasked_invalid(z, copy\u001B[38;5;241m=\u001B[39m\u001B[38;5;28;01mFalse\u001B[39;00m)\n\u001B[0;32m   1371\u001B[0m \u001B[38;5;28mself\u001B[39m\u001B[38;5;241m.\u001B[39mzmax \u001B[38;5;241m=\u001B[39m z\u001B[38;5;241m.\u001B[39mmax()\u001B[38;5;241m.\u001B[39mastype(\u001B[38;5;28mfloat\u001B[39m)\n\u001B[0;32m   1372\u001B[0m \u001B[38;5;28mself\u001B[39m\u001B[38;5;241m.\u001B[39mzmin \u001B[38;5;241m=\u001B[39m z\u001B[38;5;241m.\u001B[39mmin()\u001B[38;5;241m.\u001B[39mastype(\u001B[38;5;28mfloat\u001B[39m)\n",
      "File \u001B[1;32m~\\miniconda3\\Lib\\site-packages\\numpy\\ma\\core.py:2360\u001B[0m, in \u001B[0;36mmasked_invalid\u001B[1;34m(a, copy)\u001B[0m\n\u001B[0;32m   2333\u001B[0m \u001B[38;5;250m\u001B[39m\u001B[38;5;124;03m\"\"\"\u001B[39;00m\n\u001B[0;32m   2334\u001B[0m \u001B[38;5;124;03mMask an array where invalid values occur (NaNs or infs).\u001B[39;00m\n\u001B[0;32m   2335\u001B[0m \n\u001B[1;32m   (...)\u001B[0m\n\u001B[0;32m   2357\u001B[0m \n\u001B[0;32m   2358\u001B[0m \u001B[38;5;124;03m\"\"\"\u001B[39;00m\n\u001B[0;32m   2359\u001B[0m a \u001B[38;5;241m=\u001B[39m np\u001B[38;5;241m.\u001B[39marray(a, copy\u001B[38;5;241m=\u001B[39m\u001B[38;5;28;01mFalse\u001B[39;00m, subok\u001B[38;5;241m=\u001B[39m\u001B[38;5;28;01mTrue\u001B[39;00m)\n\u001B[1;32m-> 2360\u001B[0m res \u001B[38;5;241m=\u001B[39m masked_where(\u001B[38;5;241m~\u001B[39m(np\u001B[38;5;241m.\u001B[39misfinite(a)), a, copy\u001B[38;5;241m=\u001B[39mcopy)\n\u001B[0;32m   2361\u001B[0m \u001B[38;5;66;03m# masked_invalid previously never returned nomask as a mask and doing so\u001B[39;00m\n\u001B[0;32m   2362\u001B[0m \u001B[38;5;66;03m# threw off matplotlib (gh-22842).  So use shrink=False:\u001B[39;00m\n\u001B[0;32m   2363\u001B[0m \u001B[38;5;28;01mif\u001B[39;00m res\u001B[38;5;241m.\u001B[39m_mask \u001B[38;5;129;01mis\u001B[39;00m nomask:\n",
      "\u001B[1;31mTypeError\u001B[0m: ufunc 'isfinite' not supported for the input types, and the inputs could not be safely coerced to any supported types according to the casting rule ''safe''"
     ]
    },
    {
     "data": {
      "text/plain": [
       "<Figure size 1000x600 with 1 Axes>"
      ],
      "image/png": "[encoded data removed]"
     },
     "metadata": {},
     "output_type": "display_data"
    }
   ],
   "execution_count": 104
  }
 ],
 "metadata": {
  "kernelspec": {
   "display_name": "Python 3",
   "language": "python",
   "name": "python3"
  },
  "language_info": {
   "codemirror_mode": {
    "name": "ipython",
    "version": 2
   },
   "file_extension": ".py",
   "mimetype": "text/x-python",
   "name": "python",
   "nbconvert_exporter": "python",
   "pygments_lexer": "ipython2",
   "version": "2.7.6"
  }
 },
 "nbformat": 4,
 "nbformat_minor": 5
}
