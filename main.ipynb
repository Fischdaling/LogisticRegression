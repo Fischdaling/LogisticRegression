{
 "cells": [
  {
   "metadata": {
    "ExecuteTime": {
     "end_time": "2025-02-26T23:40:55.176674Z",
     "start_time": "2025-02-26T23:40:55.173791Z"
    }
   },
   "cell_type": "code",
   "source": [
    "import numpy as np\n",
    "import pandas as pd\n",
    "from sklearn.linear_model import LogisticRegression\n",
    "from sklearn.model_selection import train_test_split\n",
    "from sklearn.metrics import accuracy_score, confusion_matrix, classification_report\n",
    "import matplotlib.pyplot as plt\n",
    "import seaborn as sns"
   ],
   "id": "8702daa757d2497c",
   "outputs": [],
   "execution_count": 149
  },
  {
   "metadata": {
    "ExecuteTime": {
     "end_time": "2025-02-26T23:40:55.191798Z",
     "start_time": "2025-02-26T23:40:55.182754Z"
    }
   },
   "cell_type": "code",
   "source": [
    "# Load the dataset\n",
    "dataSet = pd.read_csv('data/iris.csv')\n",
    "\n",
    "# Display the first few rows of the data\n",
    "print(\"First few rows of the dataset:\")\n",
    "print(dataSet.head(10))     # loading in the first 10 data entries"
   ],
   "id": "8e722aa5f992ced0",
   "outputs": [
    {
     "name": "stdout",
     "output_type": "stream",
     "text": [
      "First few rows of the dataset:\n",
      "   Id  SepalLengthCm  SepalWidthCm  PetalLengthCm  PetalWidthCm      Species\n",
      "0   1            5.1           3.5            1.4           0.2  Iris-setosa\n",
      "1   2            4.9           3.0            1.4           0.2  Iris-setosa\n",
      "2   3            4.7           3.2            1.3           0.2  Iris-setosa\n",
      "3   4            4.6           3.1            1.5           0.2  Iris-setosa\n",
      "4   5            5.0           3.6            1.4           0.2  Iris-setosa\n",
      "5   6            5.4           3.9            1.7           0.4  Iris-setosa\n",
      "6   7            4.6           3.4            1.4           0.3  Iris-setosa\n",
      "7   8            5.0           3.4            1.5           0.2  Iris-setosa\n",
      "8   9            4.4           2.9            1.4           0.2  Iris-setosa\n",
      "9  10            4.9           3.1            1.5           0.1  Iris-setosa\n"
     ]
    }
   ],
   "execution_count": 150
  },
  {
   "metadata": {
    "ExecuteTime": {
     "end_time": "2025-02-26T23:40:55.222429Z",
     "start_time": "2025-02-26T23:40:55.217322Z"
    }
   },
   "cell_type": "code",
   "source": [
    "# Features (X) and target variable (y)\n",
    "X = dataSet.drop('Species', axis=1)     # X axis is everything but Species\n",
    "y = dataSet['Species']                  # y axis is Species only\n",
    "\n",
    "# Split the dataset into training and testing sets\n",
    "X_train, X_test, y_train, y_test = train_test_split(X, y, test_size=0.2, random_state=42, shuffle=True) # 20% test 80 train split, 42 for seeding the randomness so each run has the same random number list, shuffeling the data so we know the order doesn't influence our model\n",
    "\n",
    "print(\"Shape of training data:\", X_train.shape) #120 rows with 4 columns\n",
    "print(\"Shape of testing data:\", X_test.shape)   #30 rows with 4 columns"
   ],
   "id": "fb2bbfaae6740e17",
   "outputs": [
    {
     "name": "stdout",
     "output_type": "stream",
     "text": [
      "Shape of training data: (120, 5)\n",
      "Shape of testing data: (30, 5)\n"
     ]
    }
   ],
   "execution_count": 151
  },
  {
   "metadata": {
    "ExecuteTime": {
     "end_time": "2025-02-26T23:40:55.290029Z",
     "start_time": "2025-02-26T23:40:55.249959Z"
    }
   },
   "cell_type": "code",
   "source": [
    "# Initialize the logistic regression model\n",
    "model = LogisticRegression(max_iter=1000)  # sklearn using sigmoid's function to map real values to values 0-1\n",
    "\n",
    "# Train the model\n",
    "model.fit(X_train, y_train) #our new created model gets adjusted to our values automatically calc stuff like bias & wights\n",
    "\n",
    "print(\"Model training completed!\")"
   ],
   "id": "4fbbacea0fc8ca99",
   "outputs": [
    {
     "name": "stdout",
     "output_type": "stream",
     "text": [
      "Model training completed!\n"
     ]
    }
   ],
   "execution_count": 152
  },
  {
   "metadata": {
    "ExecuteTime": {
     "end_time": "2025-02-26T23:40:55.326576Z",
     "start_time": "2025-02-26T23:40:55.316234Z"
    }
   },
   "cell_type": "code",
   "source": [
    "# Make predictions on the test set\n",
    "y_pred = model.predict(X_test)      # Test our dataset with making predictions\n",
    "\n",
    "# Calculate accuracy\n",
    "accuracy = accuracy_score(y_test, y_pred)       # calculate the accuracy    correct predictions / all predictions\n",
    "print(\"Accuracy:\", accuracy)    # Proportion of correct predictions \n",
    "\n",
    "# Print classification report\n",
    "print(\"\\nClassification Report:\")\n",
    "print(classification_report(y_test, y_pred))   # recall: ratio if correctly predicted positives to actually positives, f1: averafe between precision and recall, Support is the actual number of occurrences"
   ],
   "id": "bd8d897061657ec1",
   "outputs": [
    {
     "name": "stdout",
     "output_type": "stream",
     "text": [
      "Accuracy: 1.0\n",
      "\n",
      "Classification Report:\n",
      "                 precision    recall  f1-score   support\n",
      "\n",
      "    Iris-setosa       1.00      1.00      1.00        10\n",
      "Iris-versicolor       1.00      1.00      1.00         9\n",
      " Iris-virginica       1.00      1.00      1.00        11\n",
      "\n",
      "       accuracy                           1.00        30\n",
      "      macro avg       1.00      1.00      1.00        30\n",
      "   weighted avg       1.00      1.00      1.00        30\n",
      "\n"
     ]
    }
   ],
   "execution_count": 153
  },
  {
   "metadata": {
    "ExecuteTime": {
     "end_time": "2025-02-26T23:40:55.440741Z",
     "start_time": "2025-02-26T23:40:55.354074Z"
    }
   },
   "cell_type": "code",
   "source": [
    "# Calculate the confusion matrix\n",
    "cm = confusion_matrix(y_test, y_pred)\n",
    "\n",
    "# Create a heatmap for the confusion matrix\n",
    "plt.figure(figsize=(8, 6))\n",
    "sns.heatmap(cm, annot=True, fmt='d', cmap='Blues')\n",
    "plt.title('Confusion Matrix')\n",
    "plt.xlabel('Predicted Species')\n",
    "plt.ylabel('Actual Species')\n",
    "plt.show()"
   ],
   "id": "9152f3ae3fa25f39",
   "outputs": [
    {
     "data": {
      "text/plain": [
       "<Figure size 800x600 with 2 Axes>"
      ],
      "image/png": "[encoded data removed]"
     },
     "metadata": {},
     "output_type": "display_data"
    }
   ],
   "execution_count": 154
  }
 ],
 "metadata": {
  "kernelspec": {
   "display_name": "Python 3",
   "language": "python",
   "name": "python3"
  },
  "language_info": {
   "codemirror_mode": {
    "name": "ipython",
    "version": 2
   },
   "file_extension": ".py",
   "mimetype": "text/x-python",
   "name": "python",
   "nbconvert_exporter": "python",
   "pygments_lexer": "ipython2",
   "version": "2.7.6"
  }
 },
 "nbformat": 4,
 "nbformat_minor": 5
}
